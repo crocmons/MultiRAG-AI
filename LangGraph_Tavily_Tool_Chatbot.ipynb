{
  "nbformat": 4,
  "nbformat_minor": 0,
  "metadata": {
    "colab": {
      "provenance": [],
      "gpuType": "T4"
    },
    "kernelspec": {
      "name": "python3",
      "display_name": "Python 3"
    },
    "language_info": {
      "name": "python"
    },
    "accelerator": "GPU"
  },
  "cells": [
    {
      "cell_type": "code",
      "execution_count": 10,
      "metadata": {
        "colab": {
          "base_uri": "https://localhost:8080/"
        },
        "id": "AVXL72Mor0t3",
        "outputId": "f83c4fbe-d726-426a-bc9d-f8aaed6c3e89"
      },
      "outputs": [
        {
          "output_type": "stream",
          "name": "stdout",
          "text": [
            "Requirement already satisfied: langchain in /usr/local/lib/python3.10/dist-packages (0.3.3)\n",
            "Requirement already satisfied: langchain_groq in /usr/local/lib/python3.10/dist-packages (0.2.0)\n",
            "Requirement already satisfied: langchain_community in /usr/local/lib/python3.10/dist-packages (0.3.2)\n",
            "Requirement already satisfied: langgraph in /usr/local/lib/python3.10/dist-packages (0.2.38)\n",
            "Requirement already satisfied: tavily-python in /usr/local/lib/python3.10/dist-packages (0.5.0)\n",
            "Requirement already satisfied: PyYAML>=5.3 in /usr/local/lib/python3.10/dist-packages (from langchain) (6.0.2)\n",
            "Requirement already satisfied: SQLAlchemy<3,>=1.4 in /usr/local/lib/python3.10/dist-packages (from langchain) (2.0.35)\n",
            "Requirement already satisfied: aiohttp<4.0.0,>=3.8.3 in /usr/local/lib/python3.10/dist-packages (from langchain) (3.10.10)\n",
            "Requirement already satisfied: async-timeout<5.0.0,>=4.0.0 in /usr/local/lib/python3.10/dist-packages (from langchain) (4.0.3)\n",
            "Requirement already satisfied: langchain-core<0.4.0,>=0.3.10 in /usr/local/lib/python3.10/dist-packages (from langchain) (0.3.12)\n",
            "Requirement already satisfied: langchain-text-splitters<0.4.0,>=0.3.0 in /usr/local/lib/python3.10/dist-packages (from langchain) (0.3.0)\n",
            "Requirement already satisfied: langsmith<0.2.0,>=0.1.17 in /usr/local/lib/python3.10/dist-packages (from langchain) (0.1.136)\n",
            "Requirement already satisfied: numpy<2,>=1 in /usr/local/lib/python3.10/dist-packages (from langchain) (1.26.4)\n",
            "Requirement already satisfied: pydantic<3.0.0,>=2.7.4 in /usr/local/lib/python3.10/dist-packages (from langchain) (2.9.2)\n",
            "Requirement already satisfied: requests<3,>=2 in /usr/local/lib/python3.10/dist-packages (from langchain) (2.32.3)\n",
            "Requirement already satisfied: tenacity!=8.4.0,<9.0.0,>=8.1.0 in /usr/local/lib/python3.10/dist-packages (from langchain) (8.5.0)\n",
            "Requirement already satisfied: groq<1,>=0.4.1 in /usr/local/lib/python3.10/dist-packages (from langchain_groq) (0.11.0)\n",
            "Requirement already satisfied: dataclasses-json<0.7,>=0.5.7 in /usr/local/lib/python3.10/dist-packages (from langchain_community) (0.6.7)\n",
            "Requirement already satisfied: pydantic-settings<3.0.0,>=2.4.0 in /usr/local/lib/python3.10/dist-packages (from langchain_community) (2.6.0)\n",
            "Requirement already satisfied: langgraph-checkpoint<3.0.0,>=2.0.0 in /usr/local/lib/python3.10/dist-packages (from langgraph) (2.0.1)\n",
            "Requirement already satisfied: langgraph-sdk<0.2.0,>=0.1.32 in /usr/local/lib/python3.10/dist-packages (from langgraph) (0.1.33)\n",
            "Requirement already satisfied: tiktoken>=0.5.1 in /usr/local/lib/python3.10/dist-packages (from tavily-python) (0.8.0)\n",
            "Requirement already satisfied: httpx in /usr/local/lib/python3.10/dist-packages (from tavily-python) (0.27.2)\n",
            "Requirement already satisfied: aiohappyeyeballs>=2.3.0 in /usr/local/lib/python3.10/dist-packages (from aiohttp<4.0.0,>=3.8.3->langchain) (2.4.3)\n",
            "Requirement already satisfied: aiosignal>=1.1.2 in /usr/local/lib/python3.10/dist-packages (from aiohttp<4.0.0,>=3.8.3->langchain) (1.3.1)\n",
            "Requirement already satisfied: attrs>=17.3.0 in /usr/local/lib/python3.10/dist-packages (from aiohttp<4.0.0,>=3.8.3->langchain) (24.2.0)\n",
            "Requirement already satisfied: frozenlist>=1.1.1 in /usr/local/lib/python3.10/dist-packages (from aiohttp<4.0.0,>=3.8.3->langchain) (1.4.1)\n",
            "Requirement already satisfied: multidict<7.0,>=4.5 in /usr/local/lib/python3.10/dist-packages (from aiohttp<4.0.0,>=3.8.3->langchain) (6.1.0)\n",
            "Requirement already satisfied: yarl<2.0,>=1.12.0 in /usr/local/lib/python3.10/dist-packages (from aiohttp<4.0.0,>=3.8.3->langchain) (1.14.0)\n",
            "Requirement already satisfied: marshmallow<4.0.0,>=3.18.0 in /usr/local/lib/python3.10/dist-packages (from dataclasses-json<0.7,>=0.5.7->langchain_community) (3.23.0)\n",
            "Requirement already satisfied: typing-inspect<1,>=0.4.0 in /usr/local/lib/python3.10/dist-packages (from dataclasses-json<0.7,>=0.5.7->langchain_community) (0.9.0)\n",
            "Requirement already satisfied: anyio<5,>=3.5.0 in /usr/local/lib/python3.10/dist-packages (from groq<1,>=0.4.1->langchain_groq) (3.7.1)\n",
            "Requirement already satisfied: distro<2,>=1.7.0 in /usr/lib/python3/dist-packages (from groq<1,>=0.4.1->langchain_groq) (1.7.0)\n",
            "Requirement already satisfied: sniffio in /usr/local/lib/python3.10/dist-packages (from groq<1,>=0.4.1->langchain_groq) (1.3.1)\n",
            "Requirement already satisfied: typing-extensions<5,>=4.7 in /usr/local/lib/python3.10/dist-packages (from groq<1,>=0.4.1->langchain_groq) (4.12.2)\n",
            "Requirement already satisfied: certifi in /usr/local/lib/python3.10/dist-packages (from httpx->tavily-python) (2024.8.30)\n",
            "Requirement already satisfied: httpcore==1.* in /usr/local/lib/python3.10/dist-packages (from httpx->tavily-python) (1.0.6)\n",
            "Requirement already satisfied: idna in /usr/local/lib/python3.10/dist-packages (from httpx->tavily-python) (3.10)\n",
            "Requirement already satisfied: h11<0.15,>=0.13 in /usr/local/lib/python3.10/dist-packages (from httpcore==1.*->httpx->tavily-python) (0.14.0)\n",
            "Requirement already satisfied: jsonpatch<2.0,>=1.33 in /usr/local/lib/python3.10/dist-packages (from langchain-core<0.4.0,>=0.3.10->langchain) (1.33)\n",
            "Requirement already satisfied: packaging<25,>=23.2 in /usr/local/lib/python3.10/dist-packages (from langchain-core<0.4.0,>=0.3.10->langchain) (24.1)\n",
            "Requirement already satisfied: msgpack<2.0.0,>=1.1.0 in /usr/local/lib/python3.10/dist-packages (from langgraph-checkpoint<3.0.0,>=2.0.0->langgraph) (1.1.0)\n",
            "Requirement already satisfied: httpx-sse>=0.4.0 in /usr/local/lib/python3.10/dist-packages (from langgraph-sdk<0.2.0,>=0.1.32->langgraph) (0.4.0)\n",
            "Requirement already satisfied: orjson>=3.10.1 in /usr/local/lib/python3.10/dist-packages (from langgraph-sdk<0.2.0,>=0.1.32->langgraph) (3.10.7)\n",
            "Requirement already satisfied: requests-toolbelt<2.0.0,>=1.0.0 in /usr/local/lib/python3.10/dist-packages (from langsmith<0.2.0,>=0.1.17->langchain) (1.0.0)\n",
            "Requirement already satisfied: annotated-types>=0.6.0 in /usr/local/lib/python3.10/dist-packages (from pydantic<3.0.0,>=2.7.4->langchain) (0.7.0)\n",
            "Requirement already satisfied: pydantic-core==2.23.4 in /usr/local/lib/python3.10/dist-packages (from pydantic<3.0.0,>=2.7.4->langchain) (2.23.4)\n",
            "Requirement already satisfied: python-dotenv>=0.21.0 in /usr/local/lib/python3.10/dist-packages (from pydantic-settings<3.0.0,>=2.4.0->langchain_community) (1.0.1)\n",
            "Requirement already satisfied: charset-normalizer<4,>=2 in /usr/local/lib/python3.10/dist-packages (from requests<3,>=2->langchain) (3.4.0)\n",
            "Requirement already satisfied: urllib3<3,>=1.21.1 in /usr/local/lib/python3.10/dist-packages (from requests<3,>=2->langchain) (2.2.3)\n",
            "Requirement already satisfied: greenlet!=0.4.17 in /usr/local/lib/python3.10/dist-packages (from SQLAlchemy<3,>=1.4->langchain) (3.1.1)\n",
            "Requirement already satisfied: regex>=2022.1.18 in /usr/local/lib/python3.10/dist-packages (from tiktoken>=0.5.1->tavily-python) (2024.9.11)\n",
            "Requirement already satisfied: exceptiongroup in /usr/local/lib/python3.10/dist-packages (from anyio<5,>=3.5.0->groq<1,>=0.4.1->langchain_groq) (1.2.2)\n",
            "Requirement already satisfied: jsonpointer>=1.9 in /usr/local/lib/python3.10/dist-packages (from jsonpatch<2.0,>=1.33->langchain-core<0.4.0,>=0.3.10->langchain) (3.0.0)\n",
            "Requirement already satisfied: mypy-extensions>=0.3.0 in /usr/local/lib/python3.10/dist-packages (from typing-inspect<1,>=0.4.0->dataclasses-json<0.7,>=0.5.7->langchain_community) (1.0.0)\n",
            "Requirement already satisfied: propcache>=0.2.0 in /usr/local/lib/python3.10/dist-packages (from yarl<2.0,>=1.12.0->aiohttp<4.0.0,>=3.8.3->langchain) (0.2.0)\n"
          ]
        }
      ],
      "source": [
        "!pip install -U langchain langchain_groq langchain_community langgraph tavily-python"
      ]
    },
    {
      "cell_type": "code",
      "source": [
        "import os\n",
        "from google.colab import userdata\n",
        "from dotenv import load_dotenv\n",
        "load_dotenv()\n",
        "\n",
        "os.environ[\"GROQ_API_KEY\"] = userdata.get('GROQ_API_KEY')\n",
        "os.environ[\"TAVILY_API_KEY\"] = userdata.get('TAVILY_API_KEY')\n",
        "os.environ[\"LANGCHAIN_TRACING_V2\"] = \"false\"\n",
        "os.environ[\"LANGCHAIN_PROJECT\"] = \"LangGraph Tutorial\""
      ],
      "metadata": {
        "id": "e_ArAeSUsOwS"
      },
      "execution_count": 12,
      "outputs": []
    },
    {
      "cell_type": "code",
      "source": [
        "from typing import Annotated\n",
        "from typing_extensions import TypedDict\n",
        "\n",
        "from langgraph.graph import StateGraph, START, END\n",
        "from langgraph.graph.message import add_messages\n",
        "\n",
        "class State(TypedDict):\n",
        "  messages:Annotated[list, add_messages]\n",
        "\n",
        "graph_builder = StateGraph(State)"
      ],
      "metadata": {
        "id": "cgFJLgpztm87"
      },
      "execution_count": 13,
      "outputs": []
    },
    {
      "cell_type": "code",
      "source": [
        "from langchain_community.tools.tavily_search import TavilySearchResults\n",
        "\n",
        "tavily_tool = TavilySearchResults(max_results=2)\n",
        "\n",
        "tools = [tavily_tool]\n",
        "\n"
      ],
      "metadata": {
        "id": "Rd9s2vxGvKPX"
      },
      "execution_count": 15,
      "outputs": []
    },
    {
      "cell_type": "code",
      "source": [
        "from langchain_groq import ChatGroq\n",
        "from langgraph.prebuilt import ToolNode, tools_condition\n",
        "\n",
        "llm = ChatGroq(model=\"llama-3.2-90b-text-preview\")\n",
        "llm_with_tool = llm.bind_tools(tools)\n",
        "\n",
        "def chatbot(state:State):\n",
        "  print(state[\"messages\"])\n",
        "  return {\"messages\":[llm_with_tool.invoke(state[\"messages\"])]}\n",
        "\n",
        "\n",
        "graph_builder.add_node(\"chatbot\", chatbot)\n",
        "tool_node = ToolNode(tools)\n",
        "graph_builder.add_node(\"tools\", tool_node)\n",
        "\n",
        "graph_builder.add_conditional_edges(\"chatbot\", tools_condition)\n",
        "\n",
        "graph_builder.add_edge(\"tools\",\"chatbot\")\n"
      ],
      "metadata": {
        "colab": {
          "base_uri": "https://localhost:8080/"
        },
        "id": "oiMy5te3wNrW",
        "outputId": "cacf8b08-bd27-4c2e-a1a0-bb40307dca6c"
      },
      "execution_count": 16,
      "outputs": [
        {
          "output_type": "execute_result",
          "data": {
            "text/plain": [
              "<langgraph.graph.state.StateGraph at 0x7adb0b4144c0>"
            ]
          },
          "metadata": {},
          "execution_count": 16
        }
      ]
    },
    {
      "cell_type": "code",
      "source": [
        "graph_builder.add_edge(START, \"chatbot\")\n",
        "graph_builder.add_edge(\"chatbot\", END)\n",
        "graph = graph_builder.compile()"
      ],
      "metadata": {
        "id": "Hk5K7VMIzeZO"
      },
      "execution_count": 17,
      "outputs": []
    },
    {
      "cell_type": "code",
      "source": [
        "from IPython.display import display, Image\n",
        "try:\n",
        "  display(Image(graph.get_graph().draw_mermaid_png()))\n",
        "except Exception:\n",
        "  pass"
      ],
      "metadata": {
        "colab": {
          "base_uri": "https://localhost:8080/",
          "height": 266
        },
        "id": "N1-uvTYIz4ig",
        "outputId": "b8845414-81a9-414b-ccb0-95226799a1f1"
      },
      "execution_count": 18,
      "outputs": [
        {
          "output_type": "display_data",
          "data": {
            "image/jpeg": "[encoded data removed]",
            "text/plain": [
              "<IPython.core.display.Image object>"
            ]
          },
          "metadata": {}
        }
      ]
    },
    {
      "cell_type": "code",
      "source": [
        "from langchain_core.messages import BaseMessage\n",
        "\n",
        "while True:\n",
        "  user_input = input(\"User:\")\n",
        "\n",
        "  if user_input.lower() in [\"quit\",\"q\",\"exit\"]:\n",
        "    print(\"Goodebye!\")\n",
        "    break\n",
        "  for event in graph.stream({\"messages\":[(\"user\", user_input)]}):\n",
        "    for value in event.values():\n",
        "      if isinstance(value[\"messages\"][-1], BaseMessage):\n",
        "        print(\"Assistant:\", value[\"messages\"][-1].content)"
      ],
      "metadata": {
        "colab": {
          "base_uri": "https://localhost:8080/"
        },
        "id": "wnR_JPao0Tlm",
        "outputId": "b5af12ad-e3aa-4187-dc49-a5a2eb330c7e"
      },
      "execution_count": null,
      "outputs": [
        {
          "output_type": "stream",
          "name": "stdout",
          "text": [
            "User:Who is Ilma Salsabil?\n",
            "[HumanMessage(content='Who is Ilma Salsabil?', additional_kwargs={}, response_metadata={}, id='7b386279-7ed6-474e-a933-52370da815ec')]\n",
            "Assistant: <function=tavily_search_results_json>{\"query\": \"Ilma Salsabil\"}<function>\n",
            "User:what is the weather in bangladesh?\n",
            "[HumanMessage(content='what is the weather in bangladesh?', additional_kwargs={}, response_metadata={}, id='0b0ac8bd-8aa4-431b-a16d-062754d06980')]\n",
            "Assistant: \n",
            "Assistant: [{\"url\": \"https://www.weatherapi.com/\", \"content\": \"{'location': {'name': 'Dhaka', 'region': '', 'country': 'Bangladesh', 'lat': 23.723, 'lon': 90.409, 'tz_id': 'Asia/Dhaka', 'localtime_epoch': 1729241683, 'localtime': '2024-10-18 14:54'}, 'current': {'last_updated_epoch': 1729241100, 'last_updated': '2024-10-18 14:45', 'temp_c': 32.3, 'temp_f': 90.1, 'is_day': 1, 'condition': {'text': 'Partly Cloudy', 'icon': '//cdn.weatherapi.com/weather/64x64/day/116.png', 'code': 1003}, 'wind_mph': 3.4, 'wind_kph': 5.4, 'wind_degree': 80, 'wind_dir': 'E', 'pressure_mb': 1008.0, 'pressure_in': 29.77, 'precip_mm': 0.0, 'precip_in': 0.0, 'humidity': 50, 'cloud': 48, 'feelslike_c': 35.5, 'feelslike_f': 95.9, 'windchill_c': 32.3, 'windchill_f': 90.1, 'heatindex_c': 35.5, 'heatindex_f': 95.9, 'dewpoint_c': 20.6, 'dewpoint_f': 69.1, 'vis_km': 10.0, 'vis_miles': 6.0, 'uv': 3.9, 'gust_mph': 3.9, 'gust_kph': 6.2}}\"}, {\"url\": \"https://www.ventusky.com/dhaka\", \"content\": \"ঢাকা (Dhaka) ☀ Weather forecast for 10 days, information from meteorological stations, webcams, sunrise and sunset, wind and precipitation maps for this place ... Asia/Dhaka (UTC+6) / Current time: 22:37 2024/10/16 . Current Weather ; Forecast ; Sun and Moon ; 28 °C ... 18:00 tomorrow 19:00 tomorrow 20:00 tomorrow 21:00 tomorrow 22:\"}]\n",
            "[HumanMessage(content='what is the weather in bangladesh?', additional_kwargs={}, response_metadata={}, id='0b0ac8bd-8aa4-431b-a16d-062754d06980'), AIMessage(content='', additional_kwargs={'tool_calls': [{'id': 'call_e853', 'function': {'arguments': '{\"query\": \"Bangladesh weather\"}', 'name': 'tavily_search_results_json'}, 'type': 'function'}]}, response_metadata={'token_usage': {'completion_tokens': 20, 'prompt_tokens': 286, 'total_tokens': 306, 'completion_time': 0.081046225, 'prompt_time': 0.090378711, 'queue_time': 0.005109719999999998, 'total_time': 0.171424936}, 'model_name': 'llama-3.2-90b-text-preview', 'system_fingerprint': 'fp_b3ae7e594e', 'finish_reason': 'tool_calls', 'logprobs': None}, id='run-8fb0715d-380e-44b7-892b-6c7f5eab52df-0', tool_calls=[{'name': 'tavily_search_results_json', 'args': {'query': 'Bangladesh weather'}, 'id': 'call_e853', 'type': 'tool_call'}], usage_metadata={'input_tokens': 286, 'output_tokens': 20, 'total_tokens': 306}), ToolMessage(content='[{\"url\": \"https://www.weatherapi.com/\", \"content\": \"{\\'location\\': {\\'name\\': \\'Dhaka\\', \\'region\\': \\'\\', \\'country\\': \\'Bangladesh\\', \\'lat\\': 23.723, \\'lon\\': 90.409, \\'tz_id\\': \\'Asia/Dhaka\\', \\'localtime_epoch\\': 1729241683, \\'localtime\\': \\'2024-10-18 14:54\\'}, \\'current\\': {\\'last_updated_epoch\\': 1729241100, \\'last_updated\\': \\'2024-10-18 14:45\\', \\'temp_c\\': 32.3, \\'temp_f\\': 90.1, \\'is_day\\': 1, \\'condition\\': {\\'text\\': \\'Partly Cloudy\\', \\'icon\\': \\'//cdn.weatherapi.com/weather/64x64/day/116.png\\', \\'code\\': 1003}, \\'wind_mph\\': 3.4, \\'wind_kph\\': 5.4, \\'wind_degree\\': 80, \\'wind_dir\\': \\'E\\', \\'pressure_mb\\': 1008.0, \\'pressure_in\\': 29.77, \\'precip_mm\\': 0.0, \\'precip_in\\': 0.0, \\'humidity\\': 50, \\'cloud\\': 48, \\'feelslike_c\\': 35.5, \\'feelslike_f\\': 95.9, \\'windchill_c\\': 32.3, \\'windchill_f\\': 90.1, \\'heatindex_c\\': 35.5, \\'heatindex_f\\': 95.9, \\'dewpoint_c\\': 20.6, \\'dewpoint_f\\': 69.1, \\'vis_km\\': 10.0, \\'vis_miles\\': 6.0, \\'uv\\': 3.9, \\'gust_mph\\': 3.9, \\'gust_kph\\': 6.2}}\"}, {\"url\": \"https://www.ventusky.com/dhaka\", \"content\": \"ঢাকা (Dhaka) ☀ Weather forecast for 10 days, information from meteorological stations, webcams, sunrise and sunset, wind and precipitation maps for this place ... Asia/Dhaka (UTC+6) / Current time: 22:37 2024/10/16 . Current Weather ; Forecast ; Sun and Moon ; 28 °C ... 18:00 tomorrow 19:00 tomorrow 20:00 tomorrow 21:00 tomorrow 22:\"}]', name='tavily_search_results_json', id='d7fca696-2440-4f72-8797-625d6830dace', tool_call_id='call_e853', artifact={'query': 'Bangladesh weather', 'follow_up_questions': None, 'answer': None, 'images': [], 'results': [{'title': 'Weather in Bangladesh', 'url': 'https://www.weatherapi.com/', 'content': \"{'location': {'name': 'Dhaka', 'region': '', 'country': 'Bangladesh', 'lat': 23.723, 'lon': 90.409, 'tz_id': 'Asia/Dhaka', 'localtime_epoch': 1729241683, 'localtime': '2024-10-18 14:54'}, 'current': {'last_updated_epoch': 1729241100, 'last_updated': '2024-10-18 14:45', 'temp_c': 32.3, 'temp_f': 90.1, 'is_day': 1, 'condition': {'text': 'Partly Cloudy', 'icon': '//cdn.weatherapi.com/weather/64x64/day/116.png', 'code': 1003}, 'wind_mph': 3.4, 'wind_kph': 5.4, 'wind_degree': 80, 'wind_dir': 'E', 'pressure_mb': 1008.0, 'pressure_in': 29.77, 'precip_mm': 0.0, 'precip_in': 0.0, 'humidity': 50, 'cloud': 48, 'feelslike_c': 35.5, 'feelslike_f': 95.9, 'windchill_c': 32.3, 'windchill_f': 90.1, 'heatindex_c': 35.5, 'heatindex_f': 95.9, 'dewpoint_c': 20.6, 'dewpoint_f': 69.1, 'vis_km': 10.0, 'vis_miles': 6.0, 'uv': 3.9, 'gust_mph': 3.9, 'gust_kph': 6.2}}\", 'score': 0.9996129, 'raw_content': None}, {'title': 'ঢাকা (Dhaka) - Weather Forecast Maps - Ventusky', 'url': 'https://www.ventusky.com/dhaka', 'content': 'ঢাকা (Dhaka) ☀ Weather forecast for 10 days, information from meteorological stations, webcams, sunrise and sunset, wind and precipitation maps for this place ... Asia/Dhaka (UTC+6) / Current time: 22:37 2024/10/16 . Current Weather ; Forecast ; Sun and Moon ; 28 °C ... 18:00 tomorrow 19:00 tomorrow 20:00 tomorrow 21:00 tomorrow 22:', 'score': 0.9948803, 'raw_content': None}], 'response_time': 3.31})]\n",
            "Assistant: The current weather in Dhaka, Bangladesh is Partly Cloudy with a temperature of 32.3 degrees Celsius and a feels-like temperature of 35.5 degrees Celsius.\n",
            "User:what is the weather in Chattogram, bangladesh?\n",
            "[HumanMessage(content='what is the weather in Chattogram, bangladesh?', additional_kwargs={}, response_metadata={}, id='2d92eb0a-ab6f-4caf-95af-7fc59dd1f30f')]\n",
            "Assistant: \n",
            "Assistant: [{\"url\": \"https://www.weatherapi.com/\", \"content\": \"{'location': {'name': 'Khulna', 'region': '', 'country': 'Bangladesh', 'lat': 22.8, 'lon': 89.55, 'tz_id': 'Asia/Dhaka', 'localtime_epoch': 1729241787, 'localtime': '2024-10-18 14:56'}, 'current': {'last_updated_epoch': 1729241100, 'last_updated': '2024-10-18 14:45', 'temp_c': 31.4, 'temp_f': 88.5, 'is_day': 1, 'condition': {'text': 'Light rain shower', 'icon': '//cdn.weatherapi.com/weather/64x64/day/353.png', 'code': 1240}, 'wind_mph': 2.2, 'wind_kph': 3.6, 'wind_degree': 316, 'wind_dir': 'NW', 'pressure_mb': 1008.0, 'pressure_in': 29.77, 'precip_mm': 0.58, 'precip_in': 0.02, 'humidity': 61, 'cloud': 53, 'feelslike_c': 36.1, 'feelslike_f': 96.9, 'windchill_c': 31.4, 'windchill_f': 88.5, 'heatindex_c': 36.1, 'heatindex_f': 96.9, 'dewpoint_c': 22.9, 'dewpoint_f': 73.3, 'vis_km': 10.0, 'vis_miles': 6.0, 'uv': 4.6, 'gust_mph': 6.7, 'gust_kph': 10.8}}\"}, {\"url\": \"https://www.easeweather.com/asia/bangladesh/chittagong/chattogram/october\", \"content\": \"Until now, October 2024 in Chattogram has been nearly identical to the historical average, with a temperature of 28.9 ° C (showing only a slight deviation of -0.2 ° C).. The forecast for the next days in Chattogram predicts temperatures to be around 29 ° C, close to the historical average.. In general, the average temperature in Chattogram at the beginning of October is 28.7 ° C.\"}]\n",
            "[HumanMessage(content='what is the weather in Chattogram, bangladesh?', additional_kwargs={}, response_metadata={}, id='2d92eb0a-ab6f-4caf-95af-7fc59dd1f30f'), AIMessage(content='', additional_kwargs={'tool_calls': [{'id': 'call_qwgd', 'function': {'arguments': '{\"query\": \"Chattogram Bangladesh weather\"}', 'name': 'tavily_search_results_json'}, 'type': 'function'}]}, response_metadata={'token_usage': {'completion_tokens': 22, 'prompt_tokens': 289, 'total_tokens': 311, 'completion_time': 0.088, 'prompt_time': 0.076730602, 'queue_time': 0.005082110000000001, 'total_time': 0.164730602}, 'model_name': 'llama-3.2-90b-text-preview', 'system_fingerprint': 'fp_9260b4bb2e', 'finish_reason': 'tool_calls', 'logprobs': None}, id='run-9154ff6f-2621-4fcf-a484-766b62ce5ae1-0', tool_calls=[{'name': 'tavily_search_results_json', 'args': {'query': 'Chattogram Bangladesh weather'}, 'id': 'call_qwgd', 'type': 'tool_call'}], usage_metadata={'input_tokens': 289, 'output_tokens': 22, 'total_tokens': 311}), ToolMessage(content='[{\"url\": \"https://www.weatherapi.com/\", \"content\": \"{\\'location\\': {\\'name\\': \\'Khulna\\', \\'region\\': \\'\\', \\'country\\': \\'Bangladesh\\', \\'lat\\': 22.8, \\'lon\\': 89.55, \\'tz_id\\': \\'Asia/Dhaka\\', \\'localtime_epoch\\': 1729241787, \\'localtime\\': \\'2024-10-18 14:56\\'}, \\'current\\': {\\'last_updated_epoch\\': 1729241100, \\'last_updated\\': \\'2024-10-18 14:45\\', \\'temp_c\\': 31.4, \\'temp_f\\': 88.5, \\'is_day\\': 1, \\'condition\\': {\\'text\\': \\'Light rain shower\\', \\'icon\\': \\'//cdn.weatherapi.com/weather/64x64/day/353.png\\', \\'code\\': 1240}, \\'wind_mph\\': 2.2, \\'wind_kph\\': 3.6, \\'wind_degree\\': 316, \\'wind_dir\\': \\'NW\\', \\'pressure_mb\\': 1008.0, \\'pressure_in\\': 29.77, \\'precip_mm\\': 0.58, \\'precip_in\\': 0.02, \\'humidity\\': 61, \\'cloud\\': 53, \\'feelslike_c\\': 36.1, \\'feelslike_f\\': 96.9, \\'windchill_c\\': 31.4, \\'windchill_f\\': 88.5, \\'heatindex_c\\': 36.1, \\'heatindex_f\\': 96.9, \\'dewpoint_c\\': 22.9, \\'dewpoint_f\\': 73.3, \\'vis_km\\': 10.0, \\'vis_miles\\': 6.0, \\'uv\\': 4.6, \\'gust_mph\\': 6.7, \\'gust_kph\\': 10.8}}\"}, {\"url\": \"https://www.easeweather.com/asia/bangladesh/chittagong/chattogram/october\", \"content\": \"Until now, October 2024 in Chattogram has been nearly identical to the historical average, with a temperature of 28.9 ° C (showing only a slight deviation of -0.2 ° C).. The forecast for the next days in Chattogram predicts temperatures to be around 29 ° C, close to the historical average.. In general, the average temperature in Chattogram at the beginning of October is 28.7 ° C.\"}]', name='tavily_search_results_json', id='f42251c5-f033-4708-93c0-4c7cc7f5e149', tool_call_id='call_qwgd', artifact={'query': 'Chattogram Bangladesh weather', 'follow_up_questions': None, 'answer': None, 'images': [], 'results': [{'title': 'Weather in Chattogram, Bangladesh', 'url': 'https://www.weatherapi.com/', 'content': \"{'location': {'name': 'Khulna', 'region': '', 'country': 'Bangladesh', 'lat': 22.8, 'lon': 89.55, 'tz_id': 'Asia/Dhaka', 'localtime_epoch': 1729241787, 'localtime': '2024-10-18 14:56'}, 'current': {'last_updated_epoch': 1729241100, 'last_updated': '2024-10-18 14:45', 'temp_c': 31.4, 'temp_f': 88.5, 'is_day': 1, 'condition': {'text': 'Light rain shower', 'icon': '//cdn.weatherapi.com/weather/64x64/day/353.png', 'code': 1240}, 'wind_mph': 2.2, 'wind_kph': 3.6, 'wind_degree': 316, 'wind_dir': 'NW', 'pressure_mb': 1008.0, 'pressure_in': 29.77, 'precip_mm': 0.58, 'precip_in': 0.02, 'humidity': 61, 'cloud': 53, 'feelslike_c': 36.1, 'feelslike_f': 96.9, 'windchill_c': 31.4, 'windchill_f': 88.5, 'heatindex_c': 36.1, 'heatindex_f': 96.9, 'dewpoint_c': 22.9, 'dewpoint_f': 73.3, 'vis_km': 10.0, 'vis_miles': 6.0, 'uv': 4.6, 'gust_mph': 6.7, 'gust_kph': 10.8}}\", 'score': 0.9981786, 'raw_content': None}, {'title': 'Weather in Chattogram in October 2024 - Detailed Forecast', 'url': 'https://www.easeweather.com/asia/bangladesh/chittagong/chattogram/october', 'content': 'Until now, October 2024 in Chattogram has been nearly identical to the historical average, with a temperature of 28.9 ° C (showing only a slight deviation of -0.2 ° C).. The forecast for the next days in Chattogram predicts temperatures to be around 29 ° C, close to the historical average.. In general, the average temperature in Chattogram at the beginning of October is 28.7 ° C.', 'score': 0.9965301, 'raw_content': None}], 'response_time': 3.58})]\n",
            "Assistant: The search results did not contain the weather for Chattogram, Bangladesh.\n",
            "User:what is the weather in Chittagong, bangladesh?\n",
            "[HumanMessage(content='what is the weather in Chittagong, bangladesh?', additional_kwargs={}, response_metadata={}, id='861233f7-e46b-4caf-9db8-e1cfacfa3435')]\n",
            "Assistant: \n",
            "Assistant: [{\"url\": \"https://www.weatherapi.com/\", \"content\": \"{'location': {'name': 'Chittagong', 'region': '', 'country': 'Bangladesh', 'lat': 22.3636, 'lon': 91.8033, 'tz_id': 'Asia/Dhaka', 'localtime_epoch': 1729241781, 'localtime': '2024-10-18 14:56'}, 'current': {'last_updated_epoch': 1729241100, 'last_updated': '2024-10-18 14:45', 'temp_c': 29.3, 'temp_f': 84.7, 'is_day': 1, 'condition': {'text': 'Partly Cloudy', 'icon': '//cdn.weatherapi.com/weather/64x64/day/116.png', 'code': 1003}, 'wind_mph': 9.2, 'wind_kph': 14.8, 'wind_degree': 282, 'wind_dir': 'WNW', 'pressure_mb': 1008.0, 'pressure_in': 29.77, 'precip_mm': 0.0, 'precip_in': 0.0, 'humidity': 68, 'cloud': 27, 'feelslike_c': 33.1, 'feelslike_f': 91.5, 'windchill_c': 29.3, 'windchill_f': 84.7, 'heatindex_c': 33.1, 'heatindex_f': 91.5, 'dewpoint_c': 22.8, 'dewpoint_f': 73.1, 'vis_km': 10.0, 'vis_miles': 6.0, 'uv': 5.0, 'gust_mph': 11.7, 'gust_kph': 18.9}}\"}, {\"url\": \"https://www.weather-atlas.com/en/bangladesh/chittagong-weather-october\", \"content\": \"October weather for Chittagong, Bangladesh: In Chittagong, Bangladesh, during October, the rain falls for 20.4 days and regularly aggregates up to 198mm (7.8\\\") of precipitation. In Chittagong, Bangladesh, in October, the average water temperature is 29.3°C (84.7°F).\"}]\n",
            "[HumanMessage(content='what is the weather in Chittagong, bangladesh?', additional_kwargs={}, response_metadata={}, id='861233f7-e46b-4caf-9db8-e1cfacfa3435'), AIMessage(content='', additional_kwargs={'tool_calls': [{'id': 'call_0987', 'function': {'arguments': '{\"query\": \"Chittagong Bangladesh weather\"}', 'name': 'tavily_search_results_json'}, 'type': 'function'}]}, response_metadata={'token_usage': {'completion_tokens': 23, 'prompt_tokens': 291, 'total_tokens': 314, 'completion_time': 0.092, 'prompt_time': 0.072523096, 'queue_time': 0.005219924000000001, 'total_time': 0.164523096}, 'model_name': 'llama-3.2-90b-text-preview', 'system_fingerprint': 'fp_9260b4bb2e', 'finish_reason': 'tool_calls', 'logprobs': None}, id='run-591f602c-a944-4b63-a802-03b155cc7bc5-0', tool_calls=[{'name': 'tavily_search_results_json', 'args': {'query': 'Chittagong Bangladesh weather'}, 'id': 'call_0987', 'type': 'tool_call'}], usage_metadata={'input_tokens': 291, 'output_tokens': 23, 'total_tokens': 314}), ToolMessage(content='[{\"url\": \"https://www.weatherapi.com/\", \"content\": \"{\\'location\\': {\\'name\\': \\'Chittagong\\', \\'region\\': \\'\\', \\'country\\': \\'Bangladesh\\', \\'lat\\': 22.3636, \\'lon\\': 91.8033, \\'tz_id\\': \\'Asia/Dhaka\\', \\'localtime_epoch\\': 1729241781, \\'localtime\\': \\'2024-10-18 14:56\\'}, \\'current\\': {\\'last_updated_epoch\\': 1729241100, \\'last_updated\\': \\'2024-10-18 14:45\\', \\'temp_c\\': 29.3, \\'temp_f\\': 84.7, \\'is_day\\': 1, \\'condition\\': {\\'text\\': \\'Partly Cloudy\\', \\'icon\\': \\'//cdn.weatherapi.com/weather/64x64/day/116.png\\', \\'code\\': 1003}, \\'wind_mph\\': 9.2, \\'wind_kph\\': 14.8, \\'wind_degree\\': 282, \\'wind_dir\\': \\'WNW\\', \\'pressure_mb\\': 1008.0, \\'pressure_in\\': 29.77, \\'precip_mm\\': 0.0, \\'precip_in\\': 0.0, \\'humidity\\': 68, \\'cloud\\': 27, \\'feelslike_c\\': 33.1, \\'feelslike_f\\': 91.5, \\'windchill_c\\': 29.3, \\'windchill_f\\': 84.7, \\'heatindex_c\\': 33.1, \\'heatindex_f\\': 91.5, \\'dewpoint_c\\': 22.8, \\'dewpoint_f\\': 73.1, \\'vis_km\\': 10.0, \\'vis_miles\\': 6.0, \\'uv\\': 5.0, \\'gust_mph\\': 11.7, \\'gust_kph\\': 18.9}}\"}, {\"url\": \"https://www.weather-atlas.com/en/bangladesh/chittagong-weather-october\", \"content\": \"October weather for Chittagong, Bangladesh: In Chittagong, Bangladesh, during October, the rain falls for 20.4 days and regularly aggregates up to 198mm (7.8\\\\\") of precipitation. In Chittagong, Bangladesh, in October, the average water temperature is 29.3°C (84.7°F).\"}]', name='tavily_search_results_json', id='68405aeb-b44f-4c23-b534-f51d8b0fa35d', tool_call_id='call_0987', artifact={'query': 'Chittagong Bangladesh weather', 'follow_up_questions': None, 'answer': None, 'images': [], 'results': [{'title': 'Weather in Chittagong, Bangladesh', 'url': 'https://www.weatherapi.com/', 'content': \"{'location': {'name': 'Chittagong', 'region': '', 'country': 'Bangladesh', 'lat': 22.3636, 'lon': 91.8033, 'tz_id': 'Asia/Dhaka', 'localtime_epoch': 1729241781, 'localtime': '2024-10-18 14:56'}, 'current': {'last_updated_epoch': 1729241100, 'last_updated': '2024-10-18 14:45', 'temp_c': 29.3, 'temp_f': 84.7, 'is_day': 1, 'condition': {'text': 'Partly Cloudy', 'icon': '//cdn.weatherapi.com/weather/64x64/day/116.png', 'code': 1003}, 'wind_mph': 9.2, 'wind_kph': 14.8, 'wind_degree': 282, 'wind_dir': 'WNW', 'pressure_mb': 1008.0, 'pressure_in': 29.77, 'precip_mm': 0.0, 'precip_in': 0.0, 'humidity': 68, 'cloud': 27, 'feelslike_c': 33.1, 'feelslike_f': 91.5, 'windchill_c': 29.3, 'windchill_f': 84.7, 'heatindex_c': 33.1, 'heatindex_f': 91.5, 'dewpoint_c': 22.8, 'dewpoint_f': 73.1, 'vis_km': 10.0, 'vis_miles': 6.0, 'uv': 5.0, 'gust_mph': 11.7, 'gust_kph': 18.9}}\", 'score': 0.9983481, 'raw_content': None}, {'title': 'October weather - Autumn 2024 - Chittagong, Bangladesh', 'url': 'https://www.weather-atlas.com/en/bangladesh/chittagong-weather-october', 'content': 'October weather for Chittagong, Bangladesh: In Chittagong, Bangladesh, during October, the rain falls for 20.4 days and regularly aggregates up to 198mm (7.8\") of precipitation. In Chittagong, Bangladesh, in October, the average water temperature is 29.3°C (84.7°F).', 'score': 0.9939261, 'raw_content': None}], 'response_time': 2.81})]\n",
            "Assistant: The current weather in Chittagong, Bangladesh is partly cloudy with a temperature of 29.3°C (84.7°F) and humidity of 68%. The wind is blowing at 9.2 mph (14.8 kph) from the west-northwest direction.\n"
          ]
        }
      ]
    },
    {
      "cell_type": "code",
      "source": [],
      "metadata": {
        "id": "wRzzRpiw1hAS"
      },
      "execution_count": null,
      "outputs": []
    }
  ]
}